{
  "nbformat": 4,
  "nbformat_minor": 0,
  "metadata": {
    "colab": {
      "provenance": []
    },
    "kernelspec": {
      "name": "python3",
      "display_name": "Python 3"
    },
    "language_info": {
      "name": "python"
    },
    "accelerator": "GPU",
    "gpuClass": "standard"
  },
  "cells": [
    {
      "cell_type": "markdown",
      "source": [
        "Para empezar a Dockear con AutoDock Vina 1.2.3 debes, subir al almacenamiento de sesión, ubicado en \"**Archivos** (lado izquierdo)\" el conjunto de archivos, y en el mismo fichero: \n",
        "- receptor.pdbqt\n",
        "- ligandos.pdbqt\n",
        "- Ligands.txt (se crea con línea de comandos:dir /b > Ligands.txt)"
      ],
      "metadata": {
        "id": "ebCrlouHtrK_"
      }
    },
    {
      "cell_type": "code",
      "execution_count": null,
      "metadata": {
        "id": "PoOKk7UuCx1o"
      },
      "outputs": [],
      "source": [
        "pip install vina==1.2.3"
      ]
    },
    {
      "cell_type": "code",
      "source": [
        "from google.colab import files"
      ],
      "metadata": {
        "id": "w6tu4SskDVFZ"
      },
      "execution_count": null,
      "outputs": []
    },
    {
      "cell_type": "code",
      "source": [
        "with open('./Ligands.txt', encoding='utf-8') as f:\n",
        "  mylist = f.read().splitlines() "
      ],
      "metadata": {
        "id": "07FcTzDpbWs_"
      },
      "execution_count": null,
      "outputs": []
    },
    {
      "cell_type": "code",
      "source": [
        "from vina import Vina\n",
        "v = Vina()\n",
        "ligand_files = mylist\n",
        "for file in ligand_files:\n",
        "  v.set_receptor(\"receptor.pdbqt\")\n",
        "  v.set_ligand_from_file(file)\n",
        "  v.compute_vina_maps([9.11, 44.81,22.78], [25,25,25])\n",
        "  v.dock(exhaustiveness=64)\n",
        "  file_name = file.split(\".\")[0]\n",
        "  v.write_poses(file_name + \"_dock.pdbqt\", energy_range=5.0)\n"
      ],
      "metadata": {
        "id": "MUNuEUtcDec_"
      },
      "execution_count": null,
      "outputs": []
    },
    {
      "cell_type": "code",
      "source": [
        "import shutil\n",
        "import os\n",
        "\n",
        "source = r'/content'\n",
        "destination = r'/content/dock/'\n",
        "fileExt = r\"_dock.pdbqt\"\n",
        "resultados = [_ for _ in os.listdir(source) if _.endswith(fileExt)]\n",
        "files = resultados\n",
        "\n",
        "for file in files:\n",
        "    new_path = shutil.move(f\"{source}/{file}\", destination)"
      ],
      "metadata": {
        "id": "xKjEP8k0rngi"
      },
      "execution_count": null,
      "outputs": []
    },
    {
      "cell_type": "code",
      "source": [
        "!zip -r /content/dock_result.zip /content/dock"
      ],
      "metadata": {
        "id": "zY6Pc3YhkgKi"
      },
      "execution_count": null,
      "outputs": []
    }
  ]
}